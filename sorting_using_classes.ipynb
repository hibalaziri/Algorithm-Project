{
  "nbformat": 4,
  "nbformat_minor": 0,
  "metadata": {
    "colab": {
      "provenance": [],
      "authorship_tag": "ABX9TyOvyXWkPwdNotalmP7Oh3aE",
      "include_colab_link": true
    },
    "kernelspec": {
      "name": "python3",
      "display_name": "Python 3"
    },
    "language_info": {
      "name": "python"
    }
  },
  "cells": [
    {
      "cell_type": "markdown",
      "metadata": {
        "id": "view-in-github",
        "colab_type": "text"
      },
      "source": [
        "<a href=\"https://colab.research.google.com/github/hibalaziri/Algorithm-Project/blob/main/sorting_using_classes.ipynb\" target=\"_parent\"><img src=\"https://colab.research.google.com/assets/colab-badge.svg\" alt=\"Open In Colab\"/></a>"
      ]
    },
    {
      "cell_type": "markdown",
      "source": [
        "# Direction giver simulation on line 10: ViajaMás™\n",
        "\n",
        "1. Create Train class and Door class\n",
        "2. Create a hash table that associates capacity and name of the door and wagon\n",
        "3. Create quicksort algorithm that sorts the values but prints the associated keys"
      ],
      "metadata": {
        "id": "6SjeHvqdUqik"
      }
    },
    {
      "cell_type": "code",
      "source": [
        "class Train:\n",
        "    def __init__(self, doors=24, wagons=6, capacity=23):\n",
        "        self.doors = doors\n",
        "        self.wagons = wagons\n",
        "        self.capacity = capacity\n",
        "\n",
        "\n",
        "class Door(Train):\n",
        "    def __init__(self, door, spots):\n",
        "        super().__init__()\n",
        "        self.door = door\n",
        "        self.spots = spots"
      ],
      "metadata": {
        "id": "aiSLYtczVrrj"
      },
      "execution_count": null,
      "outputs": []
    },
    {
      "cell_type": "code",
      "source": [
        "def read_heat_values():\n",
        "    infile = open('heat_map.txt', 'r')\n",
        "    line = infile.readline()\n",
        "    heat = []\n",
        "    while line != \"\":\n",
        "        for i in line.split(\",\"):\n",
        "            heat.append(int(i))\n",
        "        line = infile.readline()\n",
        "    return heat\n",
        "  \n",
        "\n",
        "def free_spots(self):\n",
        "    heat_map_values = read_heat_values()\n",
        "    door_number = 0\n",
        "    doors_array = []\n",
        "    for i in heat_map_values:\n",
        "        door_number += 1\n",
        "        available_spots = self.capacity - i\n",
        "        doors_array.append(Door(door_number, available_spots))\n",
        "    return doors_array\n",
        "\n",
        "\n",
        "def quicksort(array):\n",
        "    if len(array) < 2:\n",
        "        return array\n",
        "    else:\n",
        "        pivot = (len(array))//2\n",
        "        pivot = array[pivot]\n",
        "        up = []\n",
        "        down = []\n",
        "    for i in array:\n",
        "        if i.spots > pivot.spots:\n",
        "            up.append(i)\n",
        "        elif i.spots < pivot.spots:\n",
        "            down.append(i)\n",
        "    return quicksort(down) + [pivot] + quicksort(up)\n",
        "\n",
        "\n",
        "def direction_giver(imported_array):\n",
        "    imported_array = quicksort(imported_array)\n",
        "    top_pick = imported_array[-1]\n",
        "    print('Go to door', top_pick.door)\n",
        "    top_pick.spots -= 1"
      ],
      "metadata": {
        "id": "tgSy20kMVx_n"
      },
      "execution_count": 1,
      "outputs": []
    },
    {
      "cell_type": "code",
      "source": [
        "a = Train()\n",
        "array = free_spots(a)\n",
        "while True:\n",
        "    click = input('Click A to get door number (enter to quit): ')\n",
        "    if click:\n",
        "        direction_giver(array)\n",
        "    else:\n",
        "        break"
      ],
      "metadata": {
        "id": "WY4wdxvyV7d0"
      },
      "execution_count": null,
      "outputs": []
    }
  ]
}