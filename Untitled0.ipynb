{
  "nbformat": 4,
  "nbformat_minor": 0,
  "metadata": {
    "colab": {
      "provenance": [],
      "include_colab_link": true
    },
    "kernelspec": {
      "name": "python3",
      "display_name": "Python 3"
    },
    "language_info": {
      "name": "python"
    }
  },
  "cells": [
    {
      "cell_type": "markdown",
      "metadata": {
        "id": "view-in-github",
        "colab_type": "text"
      },
      "source": [
        "<a href=\"https://colab.research.google.com/github/hibalaziri/Algorithm-Project/blob/main/Untitled0.ipynb\" target=\"_parent\"><img src=\"https://colab.research.google.com/assets/colab-badge.svg\" alt=\"Open In Colab\"/></a>"
      ]
    },
    {
      "cell_type": "markdown",
      "source": [
        "###Direction giver simulation on line 10: ViajaMás™\n",
        "\n",
        "1. Create Train class and Door class\n",
        "2. Create a hash table that associates capacity and name of the door and wagon\n",
        "3. Create quicksort algorithm that sorts the values but prints the associated keys"
      ],
      "metadata": {
        "id": "EADWHtymRhhR"
      }
    },
    {
      "cell_type": "code",
      "execution_count": 6,
      "metadata": {
        "id": "OyLQX0JZQ7fU"
      },
      "outputs": [],
      "source": [
        "class Train():\n",
        "    def __init__(self, available_spots, doors=24, wagons=6, capacity = 23): # capacity depends on the type of wagon and no. of doors but we'll add by default line 10\n",
        "      self.available_spots = available_spots\n",
        "      self.doors = doors\n",
        "      self.wagons = wagons\n",
        "      self.capacity = capacity \n",
        "\n",
        "    def free_spots(self):\n",
        "        heat_map_value = 0 #import from text file that saves the input of the heat camera for each station (24 values)\n",
        "        dic = {}\n",
        "        door_number = 0\n",
        "        for door in self.doors:\n",
        "          door_number =+ 1\n",
        "          available_spots = self.capacity - heat_map_value\n",
        "          dic[available_spots] = door_number\n",
        "\n",
        "        capacity_list = []\n",
        "        for key in dic.keys():\n",
        "          capacity_list.append(key)\n",
        "\n",
        "        def QuickSort():\n",
        "          if len(capacity_list) < 2:\n",
        "            return capacity_list\n",
        "          else:\n",
        "            pivot = capacity_list[0]\n",
        "            lower = [i for i in capacity_list if i<pivot]\n",
        "            higher = [i for i in capacity_list if i<pivot]\n",
        "            return QuickSort(lower) + pivot + QuickSort(higher)\n",
        "\n",
        "          assigned_door = dic.get[str(capacity_list[-1])]\n",
        "          print('Go to door', assigned_door)\n",
        "          new_door_capacity = capacity_list[-1] - 1\n",
        "          del dic[str(capacity_list[-1])]\n",
        "          dic[new_door_capacity] = assigned_door\n"
      ]
    },
    {
      "cell_type": "code",
      "source": [
        "Train.freespots()"
      ],
      "metadata": {
        "id": "1UL6aOv27MgM"
      },
      "execution_count": null,
      "outputs": []
    }
  ]
}