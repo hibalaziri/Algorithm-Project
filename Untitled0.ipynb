{
  "nbformat": 4,
  "nbformat_minor": 0,
  "metadata": {
    "colab": {
      "provenance": [],
      "include_colab_link": true
    },
    "kernelspec": {
      "name": "python3",
      "display_name": "Python 3"
    },
    "language_info": {
      "name": "python"
    }
  },
  "cells": [
    {
      "cell_type": "markdown",
      "metadata": {
        "id": "view-in-github",
        "colab_type": "text"
      },
      "source": [
        "<a href=\"https://colab.research.google.com/github/hibalaziri/Algorithm-Project/blob/main/Untitled0.ipynb\" target=\"_parent\"><img src=\"https://colab.research.google.com/assets/colab-badge.svg\" alt=\"Open In Colab\"/></a>"
      ]
    },
    {
      "cell_type": "markdown",
      "source": [
        "###Direction giver simulator: ViajaMás™###\n",
        "\n",
        "1. Create Train class and Door class\n",
        "2. Create a hash table that associates capacity and name of the door and wagon\n",
        "3. Create quicksort algorithm that sorts the values but prints the associated keys"
      ],
      "metadata": {
        "id": "EADWHtymRhhR"
      }
    },
    {
      "cell_type": "code",
      "execution_count": null,
      "metadata": {
        "id": "OyLQX0JZQ7fU"
      },
      "outputs": [],
      "source": [
        "class Train():\n",
        "  def __init__(self, station, doors_per_wagon = 8, wagons = 2):\n",
        "    self.station = station\n",
        "    self.doors_per_wagon = doors_per_wagon\n",
        "    self.wagons = wagons\n",
        "    self.leaving = False\n",
        "    self.arriving = False\n",
        "  class Door():\n",
        "    def __init__(self, door, fullness, capacity = 25): # capacity depends on the type of wagon and no. of doors but we'll add by default line 10\n",
        "      self.door = door\n",
        "      self.fullness = fullness\n",
        "      self.capacity = capacity\n",
        "      self.dic = {}\n",
        "    def \n",
        "  "
      ]
    }
  ]
}